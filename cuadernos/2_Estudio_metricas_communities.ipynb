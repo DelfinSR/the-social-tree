{
 "cells": [
  {
   "cell_type": "markdown",
   "id": "fad1b6e3-09ca-41e2-87f7-e51101561e9e",
   "metadata": {},
   "source": [
    "<br></br>\n",
    "\n",
    "<div align=\"center\">\n",
    "\n",
    "<h1 align=\"center\">\n",
    "    Cuaderno para el trabajo de clasificación relacional\n",
    "    <br></br>\n",
    "    Estudio de métricas de detección de comunidades\n",
    "</h1>\n",
    "\n",
    "<h6 align=\"center\">\n",
    "    Antonio Macías Ferrera (antmacfer1@alum.us.es)\n",
    "    <br></br>\n",
    "    Delfín Santana Rubio (delsanrub@alum.us.es)\n",
    "    <br></br>\n",
    "    Universidad de Sevilla\n",
    "</h6>\n",
    "\n",
    "<br></br>\n",
    "\n",
    "## **Control de Versiones**\n",
    "    \n",
    "| **Fecha**  | **Versión** | **Descripción**               |\n",
    "| :--------- | :---------- | :---------------------------- |\n",
    "| 30/05/2024 | v1r0        | Primera versión del cuaderno. |\n",
    "| 07/06/2024 | v1r1        | Correcciones de formato.      |\n",
    "\n",
    "\n",
    "</div>\n",
    "\n",
    "<br></br>\n",
    "\n",
    "## **Índice de contenido**\n",
    "\n",
    "1. [Introducción](#introducción)\n",
    "2. [Instanciación del grafo](#creacion)\n",
    "3. [Estudio de la métrica](#estudio)\n",
    "\n",
    "<br></br>\n"
   ]
  },
  {
   "cell_type": "markdown",
   "id": "b5aa7598-0aff-484d-8421-c3b532bd3c2f",
   "metadata": {},
   "source": [
    "# <a name=\"introducción\"></a> 1. **Introducción**\n",
    "\n",
    "En este cuadernillo se encuentra todo el código utilizado para comprobar métricas de detección de comunidades. Se han implementado dos funciones que calculan la métrica proporcinada para cada tipo de datos, y otra que evalúa la métrica haciendo uso del t-test Student.\n",
    "\n",
    "<br></br>"
   ]
  },
  {
   "cell_type": "markdown",
   "id": "e2aec3bb-69db-4e26-9bd0-aba81c58b768",
   "metadata": {},
   "source": [
    "# <a name=\"creacion\"></a> 2. **Instanciación del grafo**\n",
    "\n",
    "<br></br>"
   ]
  },
  {
   "cell_type": "code",
   "execution_count": 2,
   "id": "50fd0111-403e-460e-9eae-3e25ce0cea61",
   "metadata": {},
   "outputs": [],
   "source": [
    "import matplotlib.pyplot as plt\n",
    "import networkx as nx\n",
    "import json\n",
    "import csv\n",
    "\n",
    "# Step 1: Read the edges.csv file\n",
    "with open('../facebook_large/musae_facebook_edges.csv', 'r') as f:\n",
    "    edges_data = csv.reader(f)\n",
    "    next(edges_data,None)\n",
    "    edges = [tuple(row) for row in edges_data]\n",
    "\n",
    "# Step 3: Create a NetworkX graph object\n",
    "G = nx.Graph()\n",
    "\n",
    "# Step 4: Add nodes and edges to the graph\n",
    "G.add_edges_from(edges)\n",
    "\n",
    "tvshow = []\n",
    "government = []\n",
    "politician = []\n",
    "company = []\n",
    "\n",
    "# Step 5: Assign features to nodes or edges\n",
    "with open('../facebook_large/musae_facebook_target.csv', 'r') as f:\n",
    "    edges_data = csv.reader(f)\n",
    "    next(edges_data,None)\n",
    "    for row in edges_data:\n",
    "        target = row[-1]\n",
    "        node = row[0]\n",
    "        if target == \"government\":\n",
    "            government.append(node)\n",
    "        elif target == \"tvshow\":\n",
    "            tvshow.append(node)\n",
    "        elif target == \"politician\":\n",
    "            politician.append(node)\n",
    "        elif target == \"company\":\n",
    "            company.append(node)\n",
    "            \n",
    "        G.nodes[node][\"target\"] = target"
   ]
  },
  {
   "cell_type": "markdown",
   "id": "b2143036-4b22-42bc-aeff-2a545bbdc776",
   "metadata": {},
   "source": [
    "# <a name=\"estudio\"></a> 3. **Estudio de la métrica**\n",
    "\n",
    "<br></br>"
   ]
  },
  {
   "cell_type": "code",
   "execution_count": 3,
   "id": "082e0c5d-a21e-4fe8-a06f-af52ccef3636",
   "metadata": {},
   "outputs": [],
   "source": [
    "from networkx.algorithms import community\n",
    "communities_generator = community.greedy_modularity_communities(G)\n"
   ]
  },
  {
   "cell_type": "code",
   "execution_count": 4,
   "id": "81fe9372-ab2a-4bc3-9dba-0d9aa79d4338",
   "metadata": {},
   "outputs": [
    {
     "name": "stdout",
     "output_type": "stream",
     "text": [
      "[('0', 5), ('18427', 5), ('1', 2), ('21708', 2), ('22208', 2), ('22171', 0), ('6829', 2), ('16590', 2), ('20135', 2), ('8894', 2), ('15785', 2), ('10281', 2), ('22265', 0), ('7136', 2), ('22405', 0), ('10379', 0), ('13737', 2), ('8533', 2), ('14344', 2), ('2812', 2)]\n"
     ]
    }
   ],
   "source": [
    "# we try to assign an id to each one\n",
    "pairs = []\n",
    "for node in G.nodes:\n",
    "    for id in range(len(communities_generator)):\n",
    "        if node in communities_generator[id]:\n",
    "            pairs.append((node,id))\n",
    "            break\n",
    "\n",
    "print(pairs[:20])"
   ]
  },
  {
   "cell_type": "code",
   "execution_count": null,
   "id": "84026b8c-06c8-467e-a45f-b571a9984031",
   "metadata": {},
   "outputs": [],
   "source": [
    "comp = community.girvan_newman(G)\n",
    "parts = tuple(sorted(c) for c in next(comp))\n",
    "print(len(parts))"
   ]
  }
 ],
 "metadata": {
  "kernelspec": {
   "display_name": "Python 3 (ipykernel)",
   "language": "python",
   "name": "python3"
  },
  "language_info": {
   "codemirror_mode": {
    "name": "ipython",
    "version": 3
   },
   "file_extension": ".py",
   "mimetype": "text/x-python",
   "name": "python",
   "nbconvert_exporter": "python",
   "pygments_lexer": "ipython3",
   "version": "3.12.3"
  }
 },
 "nbformat": 4,
 "nbformat_minor": 5
}
