{
 "cells": [
  {
   "cell_type": "markdown",
   "id": "9cccc10e-aaa5-4911-b7ae-e22dac8e2cf3",
   "metadata": {},
   "source": [
    "<br></br>\n",
    "\n",
    "<div align=\"center\">\n",
    "\n",
    "<h1 align=\"center\">\n",
    "    Cuaderno para el trabajo de clasificación relacional\n",
    "    <br></br>\n",
    "    Estudio de métricas de centralidad\n",
    "</h1>\n",
    "\n",
    "<h6 align=\"center\">\n",
    "    Antonio Macías Ferrera (antmacfer1@alum.us.es)\n",
    "    <br></br>\n",
    "    Delfín Santana Rubio (delsanrub@alum.us.es)\n",
    "    <br></br>\n",
    "    Universidad de Sevilla\n",
    "</h6>\n",
    "\n",
    "<br></br>\n",
    "\n",
    "## **Control de Versiones**\n",
    "    \n",
    "| **Fecha**  | **Versión** | **Descripción**               |\n",
    "| :--------- | :---------- | :---------------------------- |\n",
    "| 27/05/2024 | v1r0        | Primera versión del cuaderno. |\n",
    "| 29/05/2024 | v1r1        | Refactorización e inclsuión de otras medidas de centralidad.      |\n",
    "| 07/06/2024 | v1r2        | Correcciones de formato.      |\n",
    "\n",
    "\n",
    "</div>\n",
    "\n",
    "<br></br>\n",
    "\n",
    "## **Índice de contenido**\n",
    "\n",
    "1. [Introducción](#introducción)\n",
    "2. [Instanciación del grafo](#creacion)\n",
    "3. [Implementación de funciones](#creacion)\n",
    "4. [Estudio de las métricas](#estudio)\n",
    "   - [Centralidad de grado](#degree)\n",
    "   - [Centralidad k-path](#k-path)\n",
    "   - [Centralidad de cercanía](#cercania)\n",
    "   - [Centralidad de intermeciadión](intermeciadion#)\n",
    "   - [Centralidad harmónica](#harmonica)\n",
    "\n",
    "<br></br>\n",
    "\n",
    "<br></br>"
   ]
  },
  {
   "cell_type": "markdown",
   "id": "db286965-8db3-4dc8-97af-d7bf93ccf5e2",
   "metadata": {},
   "source": [
    "# <a name=\"introducción\"></a> 1. **Introducción**\n",
    "\n",
    "En este cuadernillo se encuentra todo el código utilizado para comprobar métricas de centralidad. Se han implementado dos funciones que calculan la métrica proporcinada para cada tipo de datos, y otra que evalúa la métrica haciendo uso del t-test Student.\n",
    "\n",
    "<br></br>"
   ]
  },
  {
   "cell_type": "markdown",
   "id": "df20af92-396d-43fa-91c7-9771b54228a7",
   "metadata": {},
   "source": [
    "# <a name=\"creacion\"></a> 2. **Instanciación del grafo**\n",
    "\n",
    "<br></br>"
   ]
  },
  {
   "cell_type": "code",
   "execution_count": 21,
   "id": "d7441ef4-04c3-4b46-9c44-cbefb717ac0c",
   "metadata": {},
   "outputs": [],
   "source": [
    "import matplotlib.pyplot as plt\n",
    "import networkx as nx\n",
    "import json\n",
    "import csv\n",
    "\n",
    "# Step 1: Read the edges.csv file\n",
    "with open('../facebook_large/musae_facebook_edges.csv', 'r') as f:\n",
    "    edges_data = csv.reader(f)\n",
    "    next(edges_data,None)\n",
    "    edges = [tuple(row) for row in edges_data]\n",
    "\n",
    "# Step 3: Create a NetworkX graph object\n",
    "G = nx.Graph()\n",
    "\n",
    "# Step 4: Add nodes and edges to the graph\n",
    "G.add_edges_from(edges)\n",
    "\n",
    "tvshow = []\n",
    "government = []\n",
    "politician = []\n",
    "company = []\n",
    "\n",
    "# Step 5: Assign features to nodes or edges\n",
    "with open('../facebook_large/musae_facebook_target.csv', 'r') as f:\n",
    "    edges_data = csv.reader(f)\n",
    "    next(edges_data,None)\n",
    "    for row in edges_data:\n",
    "        target = row[-1]\n",
    "        node = row[0]\n",
    "        if target == \"government\":\n",
    "            government.append(node)\n",
    "        elif target == \"tvshow\":\n",
    "            tvshow.append(node)\n",
    "        elif target == \"politician\":\n",
    "            politician.append(node)\n",
    "        elif target == \"company\":\n",
    "            company.append(node)\n",
    "            \n",
    "        G.nodes[node][\"target\"] = target\n",
    "\n"
   ]
  },
  {
   "cell_type": "markdown",
   "id": "f0f3a340-3867-44fb-8cc0-74a18b559e51",
   "metadata": {},
   "source": [
    "# <a name=\"creacion\"></a> 3. **Implementación de funciones**\n"
   ]
  },
  {
   "cell_type": "markdown",
   "id": "8f72243a-6f33-4420-9e95-ad2c0662b626",
   "metadata": {},
   "source": [
    "En primer lugar, se ha tenido que calcular la densidad del grafo, ya que algunas medidas de centralidad adquieren una complejidad computacinal demasiado grande si el grafo es denso, así que en ese caso no sería rentable usar esa métrica."
   ]
  },
  {
   "cell_type": "code",
   "execution_count": 22,
   "id": "7e2099e9-8e12-4fd8-868e-8008018ac8c9",
   "metadata": {},
   "outputs": [
    {
     "name": "stdout",
     "output_type": "stream",
     "text": [
      "Densidad del grafo: 0.000677398715568023: El grafo es disperso\n"
     ]
    }
   ],
   "source": [
    "# Determinar si el grafo es denso o disperso\n",
    "density = nx.density(G)\n",
    "umbral = 0.5\n",
    "if density >= umbral:\n",
    "    print(f\"Densidad del grafo: {density}: El grafo es denso\")\n",
    "else:\n",
    "    print(f\"Densidad del grafo: {density}: El grafo es disperso\")"
   ]
  },
  {
   "cell_type": "markdown",
   "id": "62eab6d5-9b9f-442f-8502-54f4a0ab4faf",
   "metadata": {},
   "source": [
    "Como se ha podido comprobar, el grafo es disperso, por lo que se podrán evaluar todas las medidas de centralidad: **centralidad de grado, cercanía, intermediación y harmónica**.\n",
    "\n",
    "<br></br>"
   ]
  },
  {
   "cell_type": "markdown",
   "id": "755d2492-3066-46c7-ac9e-a4ae2cfcad07",
   "metadata": {},
   "source": [
    "La función ```calc_metrics(results_dict)``` calcula la medida de centralidad dada para cada conjunto de datos del mismo tipo. Para cada nodo, se obtiene la métrica y se realiza la media y la desviación típica por tipo (). Así, con la desviación típica podemos ver si una medida es relativamente coherente en cada grupo. Si una métrica tiene una desviación típica pequeña en un grupo, quiere decir que esa métrica es similar para ese grupo, por lo que puede servir para diferenciarlo; mientras que si la desviación típica es grande, querrá decir que esa métrica es muy dispar dentro de ese grupo, por lo que no arrojará un resultado concluyente.\n",
    "\n",
    "Por otro lado, la función ```t_Student_test(results_dict)``` genera un t-test Student que compara una métrica dada de cada grupo con el resto de grupos. Esto se hace para poder evaluar si una métrica es suficientemente diferente entre los distintos grupos para poder ser usada como atributo de entrenamiento del modelo. "
   ]
  },
  {
   "cell_type": "code",
   "execution_count": 23,
   "id": "ac41cb82-ac53-4261-b7d2-a90840b70ea6",
   "metadata": {},
   "outputs": [],
   "source": [
    "from numpy import std\n",
    "from numpy import average\n",
    "from scipy.stats import ttest_ind\n",
    "from itertools import combinations\n",
    "\n",
    "def calc_metrics(results_dict):\n",
    "    tvshow_results = [results_dict[x] for x in tvshow]\n",
    "    government_results = [results_dict[x] for x in government]\n",
    "    politician_results = [results_dict[x] for x in politician]\n",
    "    company_results = [results_dict[x] for x in company]\n",
    "\n",
    "    tvshow_avg = average(tvshow_results)\n",
    "    tvshow_deviation = std(tvshow_results)\n",
    "    print(\"TVShow average= \",tvshow_avg,\" , deviation= \",tvshow_deviation)\n",
    "\n",
    "    government_avg = average(government_results)\n",
    "    government_deviation = std(government_results)\n",
    "    print(\"Government average= \",government_avg,\" , deviation= \",government_deviation)\n",
    "\n",
    "    politician_avg = average(politician_results)\n",
    "    politician_deviation = std(politician_results)\n",
    "    print(\"Politician average= \",politician_avg,\" , deviation= \",politician_deviation)\n",
    "\n",
    "    company_avg = average(company_results)\n",
    "    company_deviation = std(company_results)\n",
    "    print(\"Company average= \",company_avg,\" , deviation= \",company_deviation)\n",
    "\n",
    "\n",
    "\n",
    "# Calcular el test de t de Student\n",
    "def t_Student_test(results_dict):\n",
    "    tvshow_results = [results_dict[x] for x in tvshow]\n",
    "    government_results = [results_dict[x] for x in government]\n",
    "    politician_results = [results_dict[x] for x in politician]\n",
    "    company_results = [results_dict[x] for x in company]\n",
    "    datasets = [tvshow_results, government_results, politician_results, company_results]\n",
    "    res = {}\n",
    "\n",
    "    for (i, data_i), (j, data_j) in combinations(enumerate(datasets), 2):\n",
    "        t_stat, p_value = ttest_ind(data_i, data_j)\n",
    "        res[f\"data{i+1} vs data{j+1}\"] = (t_stat, p_value)\n",
    "\n",
    "    for key, value in res.items():\n",
    "        print(f\"{key}: T-statistic = {value[0]}, P-value = {value[1]}\")\n"
   ]
  },
  {
   "cell_type": "code",
   "execution_count": 24,
   "id": "67af4fee-50fd-40c0-b131-23d955a392af",
   "metadata": {},
   "outputs": [],
   "source": [
    "from itertools import permutations\n",
    "\n",
    "# Calcular k-path centrality\n",
    "def k_path_centrality(G, k):\n",
    "    # Inicializar el diccionario para almacenar la centralidad\n",
    "    centrality = {node: 0 for node in G.nodes()}\n",
    "    \n",
    "    # Generar todos los k-paths posibles en el grafo\n",
    "    for path in permutations(G.nodes(), k + 1):\n",
    "        # Verificar si es un camino válido (todos los nodos consecutivos están conectados)\n",
    "        valid_path = all(G.has_edge(path[i], path[i+1]) for i in range(k))\n",
    "        if valid_path:\n",
    "            # Incrementar el contador para cada nodo en el camino\n",
    "            for node in path:\n",
    "                centrality[node] += 1\n",
    "                \n",
    "    # Normalizar la centralidad dividiendo por el número total de caminos generados\n",
    "    total_paths = sum(centrality.values())\n",
    "    if total_paths > 0:\n",
    "        for node in centrality:\n",
    "            centrality[node] /= total_paths\n",
    "            \n",
    "    return centrality"
   ]
  },
  {
   "cell_type": "markdown",
   "id": "84b7c162-e7e5-46ce-86af-7dc9da1ee9eb",
   "metadata": {},
   "source": [
    "# <a name=\"estudio\"></a> 4. **Estudio de las métricas**\n",
    "\n",
    "En este apartado se evaluará cada métrica para hacer una selección 'a priori'. Se pretende descartar métricas que aporten muy mal resultado en el Student test."
   ]
  },
  {
   "cell_type": "markdown",
   "id": "2df65dfb-5bd1-4c34-a43c-1f90d506600b",
   "metadata": {},
   "source": [
    "### <a name=\"degree\"></a> **Centralidad de grado**\n"
   ]
  },
  {
   "cell_type": "code",
   "execution_count": 25,
   "id": "9c2ee3aa-acfb-451b-bc3a-826921e5528a",
   "metadata": {},
   "outputs": [
    {
     "name": "stdout",
     "output_type": "stream",
     "text": [
      "TVShow average=  0.0004139156399473299  , deviation=  0.0005789308691489977\n",
      "Government average=  0.0011507715539860086  , deviation=  0.0017220288003390594\n",
      "Politician average=  0.0006559276090608796  , deviation=  0.0009597952783473788\n",
      "Company average=  0.00033000047178165  , deviation=  0.0005060151975631529\n",
      "data1 vs data2: T-statistic = -24.030932285131954, P-value = 3.5694383416148093e-124\n",
      "data1 vs data3: T-statistic = -13.22116833880333, P-value = 1.5324464067910483e-39\n",
      "data1 vs data4: T-statistic = 7.400066389711722, P-value = 1.472791219967126e-13\n",
      "data2 vs data3: T-statistic = 19.4376821783884, P-value = 5.983198798280145e-83\n",
      "data2 vs data4: T-statistic = 36.93367188542069, P-value = 1.9868984900564964e-284\n",
      "data3 vs data4: T-statistic = 23.881750500712428, P-value = 3.0185755342125682e-123\n"
     ]
    }
   ],
   "source": [
    "# Centralidad de grado \n",
    "degree_centrality = nx.degree_centrality(G)\n",
    "calc_metrics(degree_centrality)\n",
    "t_Student_test(degree_centrality)"
   ]
  },
  {
   "cell_type": "markdown",
   "id": "18ed00bd-7535-46ac-8c87-b54e094ee1a3",
   "metadata": {},
   "source": [
    "### <a name=\"k-path\"></a> **Centralidad k-path**\n"
   ]
  },
  {
   "cell_type": "code",
   "execution_count": 26,
   "id": "8558b31d-2ab3-45f2-a6a7-eb9b5d0b7f00",
   "metadata": {},
   "outputs": [
    {
     "name": "stdout",
     "output_type": "stream",
     "text": [
      "data1 vs data2: T-statistic = -24.040910629465056, P-value = 2.8434791373913746e-124\n",
      "data1 vs data3: T-statistic = -13.239732634092194, P-value = 1.2026521731460227e-39\n",
      "data1 vs data4: T-statistic = 7.482597902453403, P-value = 7.912022708112524e-14\n",
      "data2 vs data3: T-statistic = 19.435820337441378, P-value = 6.197749635803934e-83\n",
      "data2 vs data4: T-statistic = 36.990057395792384, P-value = 2.9946931031275e-285\n",
      "data3 vs data4: T-statistic = 23.97654606702883, P-value = 3.4433049199437596e-124\n"
     ]
    }
   ],
   "source": [
    "# Centralidad k-path (k=1)\n",
    "k_path_centrality = k_path_centrality(G, k=1)\n",
    "t_Student_test(k_path_centrality)"
   ]
  },
  {
   "cell_type": "markdown",
   "id": "171b594a-9b33-462f-8235-a53b1468f21c",
   "metadata": {},
   "source": [
    "### <a name=\"cercania\"></a> **Centralidad de cercanía**\n"
   ]
  },
  {
   "cell_type": "code",
   "execution_count": 27,
   "id": "7b85f6de-41a2-4034-ae21-5142595e4205",
   "metadata": {},
   "outputs": [
    {
     "name": "stdout",
     "output_type": "stream",
     "text": [
      "data1 vs data2: T-statistic = -60.655831548304114, P-value = 0.0\n",
      "data1 vs data3: T-statistic = -24.979331210097637, P-value = 2.9638672148870546e-133\n",
      "data1 vs data4: T-statistic = -5.6098977464643225, P-value = 2.0793267902669518e-08\n",
      "data2 vs data3: T-statistic = 46.255904429060436, P-value = 0.0\n",
      "data2 vs data4: T-statistic = 63.64625690544811, P-value = 0.0\n",
      "data3 vs data4: T-statistic = 21.009086396452876, P-value = 2.668331706585062e-96\n"
     ]
    }
   ],
   "source": [
    "# Centralidad de cercanía\n",
    "closeness_centrality = nx.closeness_centrality(G)\n",
    "t_Student_test(closeness_centrality)"
   ]
  },
  {
   "cell_type": "markdown",
   "id": "b74bb1cd-2318-4945-b00c-803234a59742",
   "metadata": {},
   "source": [
    "### <a name=\"intermediacion\"></a> **Centralidad de intermediación**\n"
   ]
  },
  {
   "cell_type": "code",
   "execution_count": null,
   "id": "e810e1a8-30e5-40c9-a00a-f931f3d9f4ee",
   "metadata": {},
   "outputs": [],
   "source": [
    "# Centralidad de intermeciadión (APORTA UN MAL RESULTADO, POR ENCIAMA DE 0.05)\n",
    "betweenness_centrality = nx.betweenness_centrality(G)\n",
    "t_Student_test(betweenness_centrality)"
   ]
  },
  {
   "cell_type": "markdown",
   "id": "424243aa-a74e-4b66-bd76-8bbd4469cb3c",
   "metadata": {},
   "source": [
    "### <a name=\"harmonica\"></a> **Centralidad harmónica**\n"
   ]
  },
  {
   "cell_type": "code",
   "execution_count": null,
   "id": "fde6111f-b5f3-4769-a1ef-73833279581e",
   "metadata": {},
   "outputs": [],
   "source": [
    "# Centralidad harmonica\n",
    "harmonic_centrality = nx.harmonic_centrality(G)\n",
    "calc_metrics(harmonic_centrality)\n",
    "t_Student_test(harmonic_centrality)"
   ]
  },
  {
   "cell_type": "markdown",
   "id": "8aee029b-031a-4380-a2c5-d620cc1e7ffe",
   "metadata": {},
   "source": [
    "Tras estudiar las métricas anteriores observamos que la única que aporta un mal resultado de p-value en el Student test es la 'betweeness centrality', con lo cual sería la métrica de centralidad que se podría omitir 'a priori'."
   ]
  },
  {
   "cell_type": "code",
   "execution_count": null,
   "id": "a2ce5f95-b10c-41bb-b1ff-a18afbc5edd3",
   "metadata": {},
   "outputs": [],
   "source": []
  }
 ],
 "metadata": {
  "kernelspec": {
   "display_name": "Python 3 (ipykernel)",
   "language": "python",
   "name": "python3"
  },
  "language_info": {
   "codemirror_mode": {
    "name": "ipython",
    "version": 3
   },
   "file_extension": ".py",
   "mimetype": "text/x-python",
   "name": "python",
   "nbconvert_exporter": "python",
   "pygments_lexer": "ipython3",
   "version": "3.12.3"
  }
 },
 "nbformat": 4,
 "nbformat_minor": 5
}
