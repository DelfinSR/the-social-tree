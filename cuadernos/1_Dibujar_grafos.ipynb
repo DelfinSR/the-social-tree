{
 "cells": [
  {
   "cell_type": "markdown",
   "id": "fa6176ef-72a9-4cb9-8e0a-065d47f98ecc",
   "metadata": {},
   "source": [
    "<br></br>\n",
    "\n",
    "<div align=\"center\">\n",
    "\n",
    "<h1 align=\"center\">\n",
    "    Cuaderno para el trabajo de clasificación relacional\n",
    "    <br></br>\n",
    "    Dibujar grafos\n",
    "</h1>\n",
    "\n",
    "<h6 align=\"center\">\n",
    "    Antonio Macías Ferrera (antmacfer1@alum.us.es)\n",
    "    <br></br>\n",
    "    Delfín Santana Rubio (delsanrub@alum.us.es)\n",
    "    <br></br>\n",
    "    Universidad de Sevilla\n",
    "</h6>\n",
    "\n",
    "<br></br>\n",
    "\n",
    "## **Control de Versiones**\n",
    "    \n",
    "| **Fecha**  | **Versión** | **Descripción**               |\n",
    "| :--------- | :---------- | :---------------------------- |\n",
    "| 29/05/2024 | v1r0        | Primera versión del cuaderno. |\n",
    "| 07/06/2024 | v1r1        | Correcciones de formato.      |\n",
    "\n",
    "</div>\n",
    "\n",
    "<br></br>\n",
    "\n",
    "## **Índice de contenido**\n",
    "\n",
    "1. [Introducción](#introducción)\n",
    "2. [Instanciación del grafo](#creacion)\n",
    "3. [Dibujo del grafo en función del objetivo](#dibujo)\n",
    "\n",
    "<br></br>\n",
    "\n",
    "<br></br>"
   ]
  },
  {
   "cell_type": "markdown",
   "id": "363dc4f2-19aa-4e57-b74b-d728698093c5",
   "metadata": {},
   "source": [
    "# <a name=\"introducción\"></a> 1. **Introducción**\n",
    "\n",
    "- En este cuadernillo se encuentra todo el código en general que hemos utilizado para dibujar los grafos. \n",
    "\n",
    "- En primer lugar, se ha instanciado el grafo y se han añadido los nodos y las aristas a partir de los csv de la carpeta 'facebook_large'.\n",
    "\n",
    "- En el siguiente paso se ha procedido a dibujar el grafo con disintos 'layouts' y asignando colores en función del atributo objetivo.\n",
    "\n",
    "- Por último, se ha creado una función que guarda en formato pdf los grafos generados en el apartado anterior.\n",
    "\n",
    "<br></br>"
   ]
  },
  {
   "cell_type": "markdown",
   "id": "69761d69-2485-4c2d-951a-891c3037c46a",
   "metadata": {},
   "source": [
    "# <a name=\"creacion\"></a> 2. **Instanciación del grafo**\n",
    "\n",
    "<br></br>"
   ]
  },
  {
   "cell_type": "code",
   "execution_count": null,
   "id": "62a9fd8c-12f0-4316-9187-2dc3bc4726d0",
   "metadata": {},
   "outputs": [
    {
     "name": "stdout",
     "output_type": "stream",
     "text": [
      "The history saving thread hit an unexpected error (OperationalError('attempt to write a readonly database')).History will not be written to the database.\n"
     ]
    }
   ],
   "source": [
    "import matplotlib.pyplot as plt\n",
    "import networkx as nx\n",
    "import json\n",
    "import csv\n",
    "\n",
    "# Step 1: Read the edges.csv file\n",
    "with open('./musae_facebook_edges.csv', 'r') as f:\n",
    "    edges_data = csv.reader(f)\n",
    "    next(edges_data,None)\n",
    "    edges = [tuple(row) for row in edges_data]\n",
    "\n",
    "# Step 3: Create a NetworkX graph object\n",
    "G = nx.Graph()\n",
    "\n",
    "# Step 4: Add nodes and edges to the graph\n",
    "G.add_edges_from(edges)\n",
    "\n",
    "tvshow = []\n",
    "government = []\n",
    "politician = []\n",
    "company = []\n",
    "\n",
    "# Step 5: Assign features to nodes or edges\n",
    "with open('./musae_facebook_target.csv', 'r') as f:\n",
    "    edges_data = csv.reader(f)\n",
    "    next(edges_data,None)\n",
    "    for row in edges_data:\n",
    "        target = row[-1]\n",
    "        node = row[0]\n",
    "        if target == \"government\":\n",
    "            government.append(node)\n",
    "        elif target == \"tvshow\":\n",
    "            tvshow.append(node)\n",
    "        elif target == \"politician\":\n",
    "            politician.append(node)\n",
    "        elif target == \"company\":\n",
    "            company.append(node)\n",
    "            \n",
    "        G.nodes[node][\"target\"] = target\n"
   ]
  },
  {
   "cell_type": "markdown",
   "id": "85d00138-9544-4d5b-842d-8992475f6712",
   "metadata": {},
   "source": [
    "# <a name=\"dibujo\"></a> 3. **Dibujo del grafo en función del objetivo**\n",
    "\n",
    "<br></br>"
   ]
  },
  {
   "cell_type": "code",
   "execution_count": null,
   "id": "eed9259d-497c-4ee4-8357-a1ae256ca44e",
   "metadata": {},
   "outputs": [],
   "source": [
    "# spring_layout\n",
    "\n",
    "node_size = 6\n",
    "k = 0.15\n",
    "iterations = 2\n",
    "\n",
    "plt.figure(3, figsize=(25, 25))\n",
    "\n",
    "pos = nx.spring_layout(G, k=k) \n",
    "nx.draw_networkx_nodes(G,pos,nodelist=tvshow,node_color=\"tab:red\",node_size=node_size)#nx.draw(G, pos = pos,node_size = node_size)\n",
    "nx.draw_networkx_nodes(G,pos,nodelist=government,node_color=\"tab:blue\",node_size=node_size)#nx.draw(G, pos = pos,node_size = node_size)\n",
    "nx.draw_networkx_nodes(G,pos,nodelist=politician,node_color=\"tab:green\",node_size=node_size)#nx.draw(G, pos = pos,node_size = node_size)\n",
    "nx.draw_networkx_nodes(G,pos,nodelist=company,node_color=\"tab:purple\",node_size=node_size)#nx.draw(G, pos = pos,node_size = node_size)\n",
    "\n",
    "nx.draw_networkx_edges(G,pos,width=0.05,node_size=node_size,alpha=0.1)\n",
    "plt.savefig(\"graph.pdf\")"
   ]
  },
  {
   "cell_type": "code",
   "execution_count": null,
   "id": "bb6d7d5f-699f-48a0-a536-fd64d90825cc",
   "metadata": {},
   "outputs": [],
   "source": [
    "plt.figure(3, figsize=(23, 23))\n",
    "pos = nx.shell_layout(G) \n",
    "nx.draw_networkx_nodes(G,pos,nodelist=tvshow,node_color=\"tab:red\",node_size=node_size)#nx.draw(G, pos = pos,node_size = node_size)\n",
    "nx.draw_networkx_nodes(G,pos,nodelist=government,node_color=\"tab:blue\",node_size=node_size)#nx.draw(G, pos = pos,node_size = node_size)\n",
    "nx.draw_networkx_nodes(G,pos,nodelist=politician,node_color=\"tab:green\",node_size=node_size)#nx.draw(G, pos = pos,node_size = node_size)\n",
    "nx.draw_networkx_nodes(G,pos,nodelist=company,node_color=\"tab:purple\",node_size=node_size)#nx.draw(G, pos = pos,node_size = node_size)\n",
    "\n",
    "nx.draw_networkx_edges(G,pos,width=0.05,node_size=node_size,alpha=0.1)\n",
    "plt.savefig(\"graph.pdf\")"
   ]
  },
  {
   "cell_type": "code",
   "execution_count": null,
   "id": "8176b0cd-0871-41d3-ae17-8b357d70640d",
   "metadata": {},
   "outputs": [],
   "source": [
    "# spectral_layout\n",
    "\n",
    "plt.figure(3, figsize=(23, 23))\n",
    "pos = nx.spectral_layout(G) \n",
    "nx.draw_networkx_nodes(G,pos,nodelist=tvshow,node_color=\"tab:red\",node_size=node_size)#nx.draw(G, pos = pos,node_size = node_size)\n",
    "nx.draw_networkx_nodes(G,pos,nodelist=government,node_color=\"tab:blue\",node_size=node_size)#nx.draw(G, pos = pos,node_size = node_size)\n",
    "nx.draw_networkx_nodes(G,pos,nodelist=politician,node_color=\"tab:green\",node_size=node_size)#nx.draw(G, pos = pos,node_size = node_size)\n",
    "nx.draw_networkx_nodes(G,pos,nodelist=company,node_color=\"tab:purple\",node_size=node_size)#nx.draw(G, pos = pos,node_size = node_size)\n",
    "\n",
    "nx.draw_networkx_edges(G,pos,width=0.05,node_size=node_size,alpha=0.1)\n",
    "plt.savefig(\"graph.pdf\")"
   ]
  },
  {
   "cell_type": "code",
   "execution_count": null,
   "id": "09060e53-334f-4d19-9922-ce9d7b60e71b",
   "metadata": {},
   "outputs": [],
   "source": [
    "plt.figure(3, figsize=(23, 23))\n",
    "pos = nx.spiral_layout(G,resolution=0.5) \n",
    "nx.draw_networkx_nodes(G,pos,nodelist=tvshow,node_color=\"tab:red\",node_size=node_size)#nx.draw(G, pos = pos,node_size = node_size)\n",
    "nx.draw_networkx_nodes(G,pos,nodelist=government,node_color=\"tab:blue\",node_size=node_size)#nx.draw(G, pos = pos,node_size = node_size)\n",
    "nx.draw_networkx_nodes(G,pos,nodelist=politician,node_color=\"tab:green\",node_size=node_size)#nx.draw(G, pos = pos,node_size = node_size)\n",
    "nx.draw_networkx_nodes(G,pos,nodelist=company,node_color=\"tab:purple\",node_size=node_size)#nx.draw(G, pos = pos,node_size = node_size)\n",
    "\n",
    "nx.draw_networkx_edges(G,pos,width=0.05,node_size=node_size,alpha=0.1)\n",
    "plt.savefig(\"graph.pdf\")"
   ]
  },
  {
   "cell_type": "code",
   "execution_count": null,
   "id": "08768b53-a2f9-4bb5-a21c-1b99578c5316",
   "metadata": {},
   "outputs": [],
   "source": [
    "# circular_layout\n",
    "\n",
    "plt.figure(3, figsize=(23, 23))\n",
    "pos = nx.circular_layout(G) \n",
    "nx.draw_networkx_nodes(G,pos,nodelist=tvshow,node_color=\"tab:red\",node_size=node_size)#nx.draw(G, pos = pos,node_size = node_size)\n",
    "nx.draw_networkx_nodes(G,pos,nodelist=government,node_color=\"tab:blue\",node_size=node_size)#nx.draw(G, pos = pos,node_size = node_size)\n",
    "nx.draw_networkx_nodes(G,pos,nodelist=politician,node_color=\"tab:green\",node_size=node_size)#nx.draw(G, pos = pos,node_size = node_size)\n",
    "nx.draw_networkx_nodes(G,pos,nodelist=company,node_color=\"tab:purple\",node_size=node_size)#nx.draw(G, pos = pos,node_size = node_size)\n",
    "\n",
    "nx.draw_networkx_edges(G,pos,width=0.05,node_size=node_size,alpha=0.1)\n",
    "plt.savefig(\"graph.pdf\")"
   ]
  },
  {
   "cell_type": "code",
   "execution_count": null,
   "id": "0a5d109d-b04f-4b9d-ad90-2ed5bddba045",
   "metadata": {},
   "outputs": [],
   "source": [
    "# random_layout\n",
    "\n",
    "plt.figure(3, figsize=(23, 23))\n",
    "pos = nx.random_layout(G) \n",
    "nx.draw_networkx_nodes(G,pos,nodelist=tvshow,node_color=\"tab:red\",node_size=node_size)#nx.draw(G, pos = pos,node_size = node_size)\n",
    "nx.draw_networkx_nodes(G,pos,nodelist=government,node_color=\"tab:blue\",node_size=node_size)#nx.draw(G, pos = pos,node_size = node_size)\n",
    "nx.draw_networkx_nodes(G,pos,nodelist=politician,node_color=\"tab:green\",node_size=node_size)#nx.draw(G, pos = pos,node_size = node_size)\n",
    "nx.draw_networkx_nodes(G,pos,nodelist=company,node_color=\"tab:purple\",node_size=node_size)#nx.draw(G, pos = pos,node_size = node_size)\n",
    "\n",
    "nx.draw_networkx_edges(G,pos,width=0.05,node_size=node_size,alpha=0.1)\n",
    "plt.savefig(\"graph.pdf\")"
   ]
  }
 ],
 "metadata": {
  "kernelspec": {
   "display_name": "Python 3 (ipykernel)",
   "language": "python",
   "name": "python3"
  },
  "language_info": {
   "codemirror_mode": {
    "name": "ipython",
    "version": 3
   },
   "file_extension": ".py",
   "mimetype": "text/x-python",
   "name": "python",
   "nbconvert_exporter": "python",
   "pygments_lexer": "ipython3",
   "version": "3.12.3"
  }
 },
 "nbformat": 4,
 "nbformat_minor": 5
}
