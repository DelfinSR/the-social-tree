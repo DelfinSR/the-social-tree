{
 "cells": [
  {
   "cell_type": "markdown",
   "id": "db286965-8db3-4dc8-97af-d7bf93ccf5e2",
   "metadata": {},
   "source": [
    "<br></br>\n",
    "\n",
    "<div align=\"center\">\n",
    "\n",
    "<h1 align=\"center\">\n",
    "    Cuaderno para el trabajo de clasificación relacional\n",
    "    <br></br>\n",
    "    Escribir csv\n",
    "</h1>\n",
    "\n",
    "<h6 align=\"center\">\n",
    "    Antonio Macías Ferrera (antmacfer1@alum.us.es)\n",
    "    <br></br>\n",
    "    Delfín Santana Rubio (delsanrub@alum.us.es)\n",
    "    <br></br>\n",
    "    Universidad de Sevilla\n",
    "</h6>\n",
    "\n",
    "<br></br>\n",
    "\n",
    "## **Control de Versiones**\n",
    "    \n",
    "| **Fecha**  | **Versión** | **Descripción**               |\n",
    "| :--------- | :---------- | :---------------------------- |\n",
    "| 31/05/2024 | v1r0        | Primera versión del cuaderno. |\n",
    "\n",
    "\n",
    "</div>\n",
    "\n",
    "<br></br>\n",
    "\n",
    "## **Índice de contenido**\n",
    "\n",
    "1. [Introducción](#introducción)\n",
    "2. [Instanciación del grafo](#instanciacion)\n",
    "3. [Creación de los atributos a partir de las métricas](#creacion)\n",
    "4. [Escritura del csv](#escritura)\n",
    "\n",
    "<br></br>"
   ]
  },
  {
   "cell_type": "markdown",
   "id": "b94ccabc-89ca-4f10-84a5-6a9617f2155c",
   "metadata": {},
   "source": [
    "# <a name=\"introducción\"></a> 1. **Introducción**\n",
    "\n",
    "En este cuadernillo se encuentra todo el codigo en general que hemos utilizado para escribir el csv. Este csv es el paso previo necesario para evaluar y entrenar los modelos con los atributos seleccionados (centralidades, clustering y comunidades).\n",
    "\n",
    "<br></br>"
   ]
  },
  {
   "cell_type": "markdown",
   "id": "d80718e0-f471-414f-a1ad-6308dc579914",
   "metadata": {},
   "source": [
    "# <a name=\"instanciacion\"></a> 2. **Instanciación del grafo**\n",
    "\n",
    "<br></br>"
   ]
  },
  {
   "cell_type": "code",
   "execution_count": 2,
   "id": "d7441ef4-04c3-4b46-9c44-cbefb717ac0c",
   "metadata": {},
   "outputs": [],
   "source": [
    "import matplotlib.pyplot as plt\n",
    "import networkx as nx\n",
    "import json\n",
    "import csv\n",
    "\n",
    "# Step 1: Read the edges.csv file\n",
    "with open('../facebook_large/musae_facebook_edges.csv', 'r') as f:\n",
    "    edges_data = csv.reader(f)\n",
    "    next(edges_data,None)\n",
    "    edges = [tuple(row) for row in edges_data]\n",
    "\n",
    "# Step 3: Create a NetworkX graph object\n",
    "G = nx.Graph()\n",
    "\n",
    "# Step 4: Add nodes and edges to the graph\n",
    "G.add_edges_from(edges)\n",
    "\n",
    "tvshow = []\n",
    "government = []\n",
    "politician = []\n",
    "company = []\n",
    "\n",
    "# Step 5: Assign features to nodes or edges\n",
    "with open('../facebook_large/musae_facebook_target.csv', 'r') as f:\n",
    "    edges_data = csv.reader(f)\n",
    "    next(edges_data,None)\n",
    "    for row in edges_data:\n",
    "        target = row[-1]\n",
    "        node = row[0]\n",
    "        if target == \"government\":\n",
    "            government.append(node)\n",
    "        elif target == \"tvshow\":\n",
    "            tvshow.append(node)\n",
    "        elif target == \"politician\":\n",
    "            politician.append(node)\n",
    "        elif target == \"company\":\n",
    "            company.append(node)\n",
    "            \n",
    "        G.nodes[node][\"target\"] = target\n",
    "\n"
   ]
  },
  {
   "cell_type": "markdown",
   "id": "fd0f0aff-39ea-448e-8451-727897eb9e3f",
   "metadata": {},
   "source": [
    "# <a name=\"creacion\"></a> 3. **Creación de los atributos a partir de las métricas**\n",
    "\n",
    "<br></br>"
   ]
  },
  {
   "cell_type": "code",
   "execution_count": 3,
   "id": "67af4fee-50fd-40c0-b131-23d955a392af",
   "metadata": {},
   "outputs": [],
   "source": [
    "from itertools import permutations\n",
    "\n",
    "# Calcular k-path centrality\n",
    "def k_path_centrality(G, k):\n",
    "    # Inicializar el diccionario para almacenar la centralidad\n",
    "    centrality = {node: 0 for node in G.nodes()}\n",
    "    \n",
    "    # Generar todos los k-paths posibles en el grafo\n",
    "    for path in permutations(G.nodes(), k + 1):\n",
    "        # Verificar si es un camino válido (todos los nodos consecutivos están conectados)\n",
    "        valid_path = all(G.has_edge(path[i], path[i+1]) for i in range(k))\n",
    "        if valid_path:\n",
    "            # Incrementar el contador para cada nodo en el camino\n",
    "            for node in path:\n",
    "                centrality[node] += 1\n",
    "                \n",
    "    # Normalizar la centralidad dividiendo por el número total de caminos generados\n",
    "    total_paths = sum(centrality.values())\n",
    "    if total_paths > 0:\n",
    "        for node in centrality:\n",
    "            centrality[node] /= total_paths\n",
    "            \n",
    "    return centrality"
   ]
  },
  {
   "cell_type": "code",
   "execution_count": 4,
   "id": "88331658-8c95-49b3-b80b-728b3dcc3843",
   "metadata": {},
   "outputs": [],
   "source": [
    "def communitie_to_id(communities,G):\n",
    "    ids = dict()\n",
    "    for node in G.nodes:\n",
    "        for id in range(len(communities)):\n",
    "            if node in communities[id]:\n",
    "                ids[node] = id\n",
    "                break\n",
    "    return ids\n",
    "\n",
    "def communitie_to_id2(communities,G):\n",
    "    communities = list(communities)\n",
    "    ids = dict()\n",
    "    for id in range(len(communities)):\n",
    "        for node in communities[id]:\n",
    "            if node in ids:\n",
    "                print(\"ERROR\")\n",
    "            ids[node] = id\n",
    "    return ids"
   ]
  },
  {
   "cell_type": "code",
   "execution_count": 5,
   "id": "9c2ee3aa-acfb-451b-bc3a-826921e5528a",
   "metadata": {},
   "outputs": [],
   "source": [
    "from networkx.algorithms import community\n",
    "\n",
    "greedy_modularity_communities = community.greedy_modularity_communities(G)\n",
    "greedy_modularity_communities_nodes = communitie_to_id(greedy_modularity_communities, G)\n",
    "# Centralidad de intermeciadión\n",
    "betweenness_centrality = nx.betweenness_centrality(G)\n",
    "# Centralidad de grado \n",
    "degree_centrality = nx.degree_centrality(G)\n",
    "# Centralidad k-path (k=1)\n"
   ]
  },
  {
   "cell_type": "code",
   "execution_count": null,
   "id": "c30afaa8-6307-4c69-884a-7ac6d2c9a702",
   "metadata": {},
   "outputs": [],
   "source": [
    "k_path_centrality = k_path_centrality(G, k=1)\n",
    "# Centralidad de cercanía\n",
    "closeness_centrality = nx.closeness_centrality(G)\n",
    "# Centralidad harmonica\n",
    "harmonic_centrality = nx.harmonic_centrality(G)\n",
    "# Coeficiente de clustering\n",
    "clustering = nx.clustering(G)"
   ]
  },
  {
   "cell_type": "code",
   "execution_count": null,
   "id": "495365a0-d44c-465f-9c94-d671d2da465a",
   "metadata": {},
   "outputs": [],
   "source": [
    "square_clustering = nx.square_clustering(G)"
   ]
  },
  {
   "cell_type": "code",
   "execution_count": null,
   "id": "7c731ddf-9a93-4add-b15a-c2e64fead7b7",
   "metadata": {
    "scrolled": true
   },
   "outputs": [],
   "source": [
    "from networkx.algorithms import community\n",
    "label_propagation_communities = community.label_propagation_communities(G)\n",
    "label_propagation_communities_nodes = communitie_to_id2(label_propagation_communities,G)\n",
    "label_propagation_communities_nodes"
   ]
  },
  {
   "cell_type": "markdown",
   "id": "c1049952-8272-4e9a-9f18-eb1e4028a965",
   "metadata": {},
   "source": [
    "# <a name=\"escritura\"></a> 3. **Escritura del csv**\n",
    "\n",
    "<br></br>"
   ]
  },
  {
   "cell_type": "code",
   "execution_count": null,
   "id": "fde6111f-b5f3-4769-a1ef-73833279581e",
   "metadata": {},
   "outputs": [],
   "source": [
    "# Los calculos se hacen por separado para evitar que si hay algun error en la escritura que se tengan que rehacer\n",
    "array_node_values = []\n",
    "i = 0\n",
    "with open('../facebook_large/musae_facebook_target.csv', 'r') as f:\n",
    "    edges_data = csv.reader(f)\n",
    "    next(edges_data,None)\n",
    "    for row in edges_data:\n",
    "        target = row[-1]\n",
    "        node = row[0]\n",
    "\n",
    "        \n",
    "        values_to_append = []\n",
    "        values_to_append.append(greedy_modularity_communities_nodes[node])\n",
    "        values_to_append.append(label_propagation_communities_nodes[node])\n",
    "        values_to_append.append(betweenness_centrality[node])\n",
    "        values_to_append.append(degree_centrality[node])\n",
    "        values_to_append.append(k_path_centrality[node])\n",
    "        values_to_append.append(closeness_centrality[node])\n",
    "        values_to_append.append(harmonic_centrality[node])\n",
    "        values_to_append.append(square_clustering[node])\n",
    "        values_to_append.append(clustering[node])\n",
    "        values_to_append.append(target)\n",
    "\n",
    "        i = i+1\n",
    "        \n",
    "        array_node_values.append(values_to_append)\n",
    "\n",
    "with open(\"dict.csv\",\"w\") as df:\n",
    "    df.write(\"greedy_modularity_communities_id,label_propagation_communities_id,betweenness_centrality,degree_centrality,k_path_centrality,closeness_centrality,harmonic_centrality,square_clustering,clustering,target\\n\")\n",
    "    for line in array_node_values:\n",
    "        str_to_write = \",\".join(map(str,line))\n",
    "        df.write(str_to_write+\"\\n\")\n",
    "\n",
    "    df.close()\n",
    "            \n",
    "        \n",
    "        "
   ]
  }
 ],
 "metadata": {
  "kernelspec": {
   "display_name": "Python 3 (ipykernel)",
   "language": "python",
   "name": "python3"
  },
  "language_info": {
   "codemirror_mode": {
    "name": "ipython",
    "version": 3
   },
   "file_extension": ".py",
   "mimetype": "text/x-python",
   "name": "python",
   "nbconvert_exporter": "python",
   "pygments_lexer": "ipython3",
   "version": "3.12.3"
  }
 },
 "nbformat": 4,
 "nbformat_minor": 5
}
