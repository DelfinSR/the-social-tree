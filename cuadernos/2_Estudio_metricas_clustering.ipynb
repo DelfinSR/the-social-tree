{
 "cells": [
  {
   "cell_type": "markdown",
   "id": "671e2b57-daba-43c0-b6c7-2122418ab6be",
   "metadata": {},
   "source": [
    "<br></br>\n",
    "\n",
    "<div align=\"center\">\n",
    "\n",
    "<h1 align=\"center\">\n",
    "    Cuaderno para el trabajo de clasificación relacional\n",
    "    <br></br>\n",
    "    Estudio de métricas de clustering\n",
    "</h1>\n",
    "\n",
    "<h6 align=\"center\">\n",
    "    Antonio Macías Ferrera (antmacfer1@alum.us.es)\n",
    "    <br></br>\n",
    "    Delfín Santana Rubio (delsanrub@alum.us.es)\n",
    "    <br></br>\n",
    "    Universidad de Sevilla\n",
    "</h6>\n",
    "\n",
    "<br></br>\n",
    "\n",
    "## **Control de Versiones**\n",
    "    \n",
    "| **Fecha**  | **Versión** | **Descripción**               |\n",
    "| :--------- | :---------- | :---------------------------- |\n",
    "| 27/05/2024 | v1r0        | Primera versión del cuaderno. |\n",
    "| 29/05/2024 | v1r1        | Refactorización e inclsuión de otras medidas de centralidad.      |\n",
    "| 07/06/2024 | v1r2        | Correcciones de formato.      |\n",
    "\n",
    "\n",
    "</div>\n",
    "\n",
    "<br></br>\n",
    "\n",
    "## **Índice de contenido**\n",
    "\n",
    "1. [Introducción](#introducción)\n",
    "2. [Instanciación del grafo](#creacion)\n",
    "3. [Implementación de funciones](#creacion)\n",
    "4. [Estudio de las métricas](#estudio)\n",
    "    - [Coeficiente de clustering](#clustering)\n",
    "    - [Coeficiente de squares clustering](#squares-clustering)\n",
    "\n",
    "<br></br>"
   ]
  },
  {
   "cell_type": "markdown",
   "id": "f9fe2d4f-a6f8-4e42-87ef-c7521ee320d8",
   "metadata": {},
   "source": [
    "# <a name=\"introducción\"></a> 1. **Introducción**\n",
    "\n",
    "En este cuadernillo se encuentra todo el código utilizado para comprobar métricas de clustering. Se han implementado dos funciones que calculan la métrica proporcinada para cada tipo de datos, y otra que evalúa la métrica haciendo uso del t-test Student.\n",
    "\n",
    "<br></br>"
   ]
  },
  {
   "cell_type": "markdown",
   "id": "b9d43b83-9394-4449-a0b3-e9ed524bb6fa",
   "metadata": {},
   "source": [
    "# <a name=\"creacion\"></a> 2. **Instanciación del grafo**\n",
    "\n",
    "<br></br>"
   ]
  },
  {
   "cell_type": "code",
   "execution_count": 4,
   "id": "d14324ec-0901-42df-a4e4-afcee918c412",
   "metadata": {},
   "outputs": [],
   "source": [
    "import matplotlib.pyplot as plt\n",
    "import networkx as nx\n",
    "import json\n",
    "import csv\n",
    "\n",
    "# Step 1: Read the edges.csv file\n",
    "with open('../facebook_large/musae_facebook_edges.csv', 'r') as f:\n",
    "    edges_data = csv.reader(f)\n",
    "    next(edges_data,None)\n",
    "    edges = [tuple(row) for row in edges_data]\n",
    "\n",
    "# Step 3: Create a NetworkX graph object\n",
    "G = nx.Graph()\n",
    "\n",
    "# Step 4: Add nodes and edges to the graph\n",
    "G.add_edges_from(edges)\n",
    "\n",
    "tvshow = []\n",
    "government = []\n",
    "politician = []\n",
    "company = []\n",
    "\n",
    "# Step 5: Assign features to nodes or edges\n",
    "with open('../facebook_large/musae_facebook_target.csv', 'r') as f:\n",
    "    edges_data = csv.reader(f)\n",
    "    next(edges_data,None)\n",
    "    for row in edges_data:\n",
    "        target = row[-1]\n",
    "        node = row[0]\n",
    "        if target == \"government\":\n",
    "            government.append(node)\n",
    "        elif target == \"tvshow\":\n",
    "            tvshow.append(node)\n",
    "        elif target == \"politician\":\n",
    "            politician.append(node)\n",
    "        elif target == \"company\":\n",
    "            company.append(node)\n",
    "            \n",
    "        G.nodes[node][\"target\"] = target\n"
   ]
  },
  {
   "cell_type": "markdown",
   "id": "5a71b1ce-c1d0-4f8c-b5d4-50b42455772b",
   "metadata": {},
   "source": [
    "# <a name=\"creacion\"></a> 3. **Implementación de funciones**\n",
    "\n",
    "La función ```calc_metrics(results_dict)``` calcula la medida de centralidad dada para cada conjunto de datos del mismo tipo. Para cada nodo, se obtiene la métrica y se realiza la media y la desviación típica por tipo (). Así, con la desviación típica podemos ver si una medida es relativamente coherente en cada grupo. Si una métrica tiene una desviación típica pequeña en un grupo, quiere decir que esa métrica es similar para ese grupo, por lo que puede servir para diferenciarlo; mientras que si la desviación típica es grande, querrá decir que esa métrica es muy dispar dentro de ese grupo, por lo que no arrojará un resultado concluyente.\n",
    "\n",
    "Por otro lado, la función ```t_Student_test(results_dict)``` genera un t-test Student que compara una métrica dada de cada grupo con el resto de grupos. Esto se hace para poder evaluar si una métrica es suficientemente diferente entre los distintos grupos para poder ser usada como atributo de entrenamiento del modelo. "
   ]
  },
  {
   "cell_type": "code",
   "execution_count": 5,
   "id": "62ababdd-6d68-4e46-a0a1-871ab2921971",
   "metadata": {},
   "outputs": [],
   "source": [
    "from numpy import std\n",
    "from numpy import average\n",
    "\n",
    "def calc_metrics(results_dict):\n",
    "    tvshow_results = [results_dict[x] for x in tvshow]\n",
    "    government_results = [results_dict[x] for x in government]\n",
    "    politician_results = [results_dict[x] for x in politician]\n",
    "    company_results = [results_dict[x] for x in company]\n",
    "\n",
    "    tvshow_avg = average(tvshow_results)\n",
    "    tvshow_deviation = std(tvshow_results)\n",
    "    print(\"TVShow average= \",tvshow_avg,\" , deviation= \",tvshow_deviation)\n",
    "\n",
    "    government_avg = average(government_results)\n",
    "    government_deviation = std(government_results)\n",
    "    print(\"Government average= \",government_avg,\" , deviation= \",government_deviation)\n",
    "\n",
    "    politician_avg = average(politician_results)\n",
    "    politician_deviation = std(politician_results)\n",
    "    print(\"Politician average= \",politician_avg,\" , deviation= \",politician_deviation)\n",
    "\n",
    "    company_avg = average(company_results)\n",
    "    company_deviation = std(company_results)\n",
    "    print(\"Company average= \",company_avg,\" , deviation= \",company_deviation)\n",
    "\n",
    "from scipy.stats import ttest_ind\n",
    "from itertools import combinations\n",
    "\n",
    "# Calcular el test de t de Student\n",
    "def t_Student_test(results_dict):\n",
    "    tvshow_results = [results_dict[x] for x in tvshow]\n",
    "    government_results = [results_dict[x] for x in government]\n",
    "    politician_results = [results_dict[x] for x in politician]\n",
    "    company_results = [results_dict[x] for x in company]\n",
    "    datasets = [tvshow_results, government_results, politician_results, company_results]\n",
    "    res = {}\n",
    "\n",
    "    for (i, data_i), (j, data_j) in combinations(enumerate(datasets), 2):\n",
    "        t_stat, p_value = ttest_ind(data_i, data_j)\n",
    "        res[f\"data{i+1} vs data{j+1}\"] = (t_stat, p_value)\n",
    "\n",
    "    for key, value in res.items():\n",
    "        print(f\"{key}: T-statistic = {value[0]}, P-value = {value[1]}\")\n"
   ]
  },
  {
   "cell_type": "markdown",
   "id": "9784b348-d1fe-4d6d-a546-b2666156fd9b",
   "metadata": {},
   "source": [
    "# <a name=\"estudio\"></a> 4. **Estudio de las métricas**\n",
    "\n",
    "En este apartado se evaluará cada métrica para hacer una selección 'a priori'. Se pretende descartar métricas que aporten muy mal resultado en el Student test. Se considera mal resultado si el p-value es mayor a 0.05."
   ]
  },
  {
   "cell_type": "markdown",
   "id": "950d73a5-4624-41b6-bd02-113510dfbd9f",
   "metadata": {},
   "source": [
    "### <a name=\"clustering\"></a> **Coeficiente de clustering**\n"
   ]
  },
  {
   "cell_type": "code",
   "execution_count": 6,
   "id": "7ccc79e9-b13b-4757-bddc-cd00bec49bc8",
   "metadata": {},
   "outputs": [
    {
     "name": "stdout",
     "output_type": "stream",
     "text": [
      "TVShow average=  0.3524535354313019  , deviation=  0.3540146469057918\n",
      "Government average=  0.41713675511342435  , deviation=  0.2711972573411726\n",
      "Politician average=  0.39216743742579085  , deviation=  0.3029095117118667\n",
      "Company average=  0.27387003646729674  , deviation=  0.3389491926519668\n",
      "data1 vs data2: T-statistic = -10.18534462019756, P-value = 3.010702747554816e-24\n",
      "data1 vs data3: T-statistic = -5.655130229691308, P-value = 1.6043659430754746e-08\n",
      "data1 vs data4: T-statistic = 10.709900635502233, P-value = 1.2825756411998836e-26\n",
      "data2 vs data3: T-statistic = 4.888290247638987, P-value = 1.0296431964189525e-06\n",
      "data2 vs data4: T-statistic = 27.062014321785295, P-value = 4.507779980271968e-157\n",
      "data3 vs data4: T-statistic = 20.272827013869268, P-value = 6.598624181664373e-90\n"
     ]
    }
   ],
   "source": [
    "# Coeficiente de clustering\n",
    "clustering = nx.clustering(G)\n",
    "calc_metrics(clustering)\n",
    "t_Student_test(clustering)"
   ]
  },
  {
   "cell_type": "markdown",
   "id": "d4bc1b1b-0a52-4ff1-9f0f-7fffb123e1da",
   "metadata": {},
   "source": [
    "### <a name=\"squares-clustering\"></a> **Coeficiente de squares clustering**\n"
   ]
  },
  {
   "cell_type": "code",
   "execution_count": 7,
   "id": "94a73013-2863-462b-8a89-8daf5faf83df",
   "metadata": {},
   "outputs": [
    {
     "name": "stdout",
     "output_type": "stream",
     "text": [
      "TVShow average=  0.13955281977191394  , deviation=  0.19072525217794437\n",
      "Government average=  0.13873400472771732  , deviation=  0.11928419000763953\n",
      "Politician average=  0.13637561364702372  , deviation=  0.1301550749643918\n",
      "Company average=  0.100813244285221  , deviation=  0.16991846089255488\n",
      "data1 vs data2: T-statistic = 0.2647428248590908, P-value = 0.7912129314159827\n",
      "data1 vs data3: T-statistic = 0.9409732209025197, P-value = 0.34674357915272636\n",
      "data1 vs data4: T-statistic = 10.250962791309476, P-value = 1.5571949933807112e-24\n",
      "data2 vs data3: T-statistic = 1.062179263778633, P-value = 0.2881745951599348\n",
      "data2 vs data4: T-statistic = 15.003302849043617, P-value = 1.797359370475241e-50\n",
      "data3 vs data4: T-statistic = 12.887071949680916, P-value = 9.356156153445658e-38\n"
     ]
    }
   ],
   "source": [
    "# Coeficiente de squares clustering ( no parece dar un buen resultado)\n",
    "clustering = nx.square_clustering(G)\n",
    "calc_metrics(clustering)\n",
    "t_Student_test(clustering)"
   ]
  },
  {
   "cell_type": "markdown",
   "id": "cc12421c-3360-49fe-b3f4-a17c54111c71",
   "metadata": {},
   "source": [
    "Observamos que el coeficiente de clustering aporta muy buen resultado mientras que el squares clustering solo aporta un buen resultado en el 50% de los casos"
   ]
  },
  {
   "cell_type": "code",
   "execution_count": null,
   "id": "0aff9d92-d843-42cb-a6b2-f9ed06d7c85c",
   "metadata": {},
   "outputs": [],
   "source": []
  }
 ],
 "metadata": {
  "kernelspec": {
   "display_name": "Python 3 (ipykernel)",
   "language": "python",
   "name": "python3"
  },
  "language_info": {
   "codemirror_mode": {
    "name": "ipython",
    "version": 3
   },
   "file_extension": ".py",
   "mimetype": "text/x-python",
   "name": "python",
   "nbconvert_exporter": "python",
   "pygments_lexer": "ipython3",
   "version": "3.12.3"
  }
 },
 "nbformat": 4,
 "nbformat_minor": 5
}
